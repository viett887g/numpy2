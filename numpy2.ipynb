{
  "nbformat": 4,
  "nbformat_minor": 0,
  "metadata": {
    "colab": {
      "name": "numpy2",
      "provenance": [],
      "collapsed_sections": [],
      "authorship_tag": "ABX9TyPR4iMHeOCdzpzuXsvZON+u",
      "include_colab_link": true
    },
    "kernelspec": {
      "name": "python3",
      "display_name": "Python 3"
    },
    "language_info": {
      "name": "python"
    }
  },
  "cells": [
    {
      "cell_type": "markdown",
      "metadata": {
        "id": "view-in-github",
        "colab_type": "text"
      },
      "source": [
        "<a href=\"https://colab.research.google.com/github/viett887g/numpy2/blob/main/numpy2.ipynb\" target=\"_parent\"><img src=\"https://colab.research.google.com/assets/colab-badge.svg\" alt=\"Open In Colab\"/></a>"
      ]
    },
    {
      "cell_type": "code",
      "source": [
        "import numpy as np\n",
        "import math\n",
        "import random"
      ],
      "metadata": {
        "id": "sKdDbOcEFhm4"
      },
      "execution_count": 23,
      "outputs": []
    },
    {
      "cell_type": "code",
      "source": [
        "1 Sử dụng thư viện NumPy, hãy tạo ra một ma trận A ∈ R7×5\n",
        "\n",
        ", giá trị các phần tử của ma trận được\n",
        "\n",
        "sinh ngẫu nhiên. Kết quả xuất ra màn hình."
      ],
      "metadata": {
        "id": "Rt-3lHU_d5pk"
      },
      "execution_count": null,
      "outputs": []
    },
    {
      "cell_type": "code",
      "source": [
        "vecA= []\n",
        "for i in range(5):\n",
        "  acid=[]\n",
        "  for j in range(7):\n",
        "    acid.append(rd.randint(1,199))\n",
        "  vecA.append(acid)\n",
        "\n",
        "print(np.array(vecA))"
      ],
      "metadata": {
        "colab": {
          "base_uri": "https://localhost:8080/"
        },
        "id": "bb_R1O0ODmiu",
        "outputId": "f3c77c18-4981-47b6-80b7-b081bf129833"
      },
      "execution_count": null,
      "outputs": [
        {
          "output_type": "stream",
          "name": "stdout",
          "text": [
            "[[ 96 122  37 178 152 164 179]\n",
            " [124 190 123  99  16 120  51]\n",
            " [ 93  15 146 142  58  41 155]\n",
            " [ 48  59  98 128  18 179  99]\n",
            " [115 137  85  36  78  28 181]]\n"
          ]
        }
      ]
    },
    {
      "cell_type": "code",
      "source": [
        ""
      ],
      "metadata": {
        "id": "Iy9ihbh6dlB1"
      },
      "execution_count": null,
      "outputs": []
    },
    {
      "cell_type": "code",
      "source": [
        "2Ma trận Am×n được gọi là ma trận không khi ai,j = 0, ∀i,j.\n",
        "Sử dụng thư viện NumPy, hãy tạo một ma trận 0 - A6×7. Gợi ý: sử dụng hàm numpy.zeros((m,n)).\n",
        "Kết quả xuất ra màn hình."
      ],
      "metadata": {
        "id": "bC2yOfYZd6s1"
      },
      "execution_count": null,
      "outputs": []
    },
    {
      "cell_type": "code",
      "source": [
        "np_vec = np.zeros((6,7))\n",
        "print(np_vec)"
      ],
      "metadata": {
        "colab": {
          "base_uri": "https://localhost:8080/"
        },
        "id": "-B_AQZHid7Hm",
        "outputId": "1ec59eab-b31f-4aeb-aef6-b242bac5bc49"
      },
      "execution_count": null,
      "outputs": [
        {
          "output_type": "stream",
          "name": "stdout",
          "text": [
            "[[0. 0. 0. 0. 0. 0. 0.]\n",
            " [0. 0. 0. 0. 0. 0. 0.]\n",
            " [0. 0. 0. 0. 0. 0. 0.]\n",
            " [0. 0. 0. 0. 0. 0. 0.]\n",
            " [0. 0. 0. 0. 0. 0. 0.]\n",
            " [0. 0. 0. 0. 0. 0. 0.]]\n"
          ]
        }
      ]
    },
    {
      "cell_type": "code",
      "source": [
        "3 Là ma trận có số hàng và số cột bằng nhau. Sử dụng thư viện NumPy,\n",
        "hãy tạo ra một ma trận A ∈ R7×7\n",
        "\n",
        ", giá trị các phần tử của ma trận được sinh ngẫu nhiên. Kết quả\n",
        "\n",
        "xuất ra màn hình."
      ],
      "metadata": {
        "id": "krmSrlmaeWcz"
      },
      "execution_count": null,
      "outputs": []
    },
    {
      "cell_type": "code",
      "source": [
        "vecB = []\n",
        "for i in range(7):\n",
        "  heli=[]\n",
        "  for j in range(7):\n",
        "    heli.append(rd.randint(1,199))\n",
        "  vecB.append(heli)\n",
        "\n",
        "print(np.array(vecB))"
      ],
      "metadata": {
        "colab": {
          "base_uri": "https://localhost:8080/"
        },
        "id": "PqbtSayLfxfq",
        "outputId": "23bc5be7-1ae9-43b1-9770-587257ef9a89"
      },
      "execution_count": null,
      "outputs": [
        {
          "output_type": "stream",
          "name": "stdout",
          "text": [
            "[[131 157  86  76   5  86 134]\n",
            " [126  70  53 174  37  27 122]\n",
            " [130  47 161 167 142  71  78]\n",
            " [ 48  67 112  80  37  57 168]\n",
            " [ 11 194 188  17 152  66  57]\n",
            " [  6 133 110 188  73 123   1]\n",
            " [ 51  82  35  16 104  40  24]]\n"
          ]
        }
      ]
    },
    {
      "cell_type": "code",
      "source": [
        "4Ma trận vuông có các phần tử trên đường chéo ai,i ≠ 0\n",
        "trong khi các phần tử còn lại ai,j = 0, ∀i ≠ j."
      ],
      "metadata": {
        "id": "cn7c1IaUgaQf"
      },
      "execution_count": null,
      "outputs": []
    },
    {
      "cell_type": "code",
      "source": [
        "vecC=np.diag([1,2,3])\n",
        "print(vecC)"
      ],
      "metadata": {
        "colab": {
          "base_uri": "https://localhost:8080/"
        },
        "id": "6rHrnUHNgbOe",
        "outputId": "4d1af787-1e98-45fe-d0f5-d9f1adf582b8"
      },
      "execution_count": null,
      "outputs": [
        {
          "output_type": "stream",
          "name": "stdout",
          "text": [
            "[[1 0 0]\n",
            " [0 2 0]\n",
            " [0 0 3]]\n"
          ]
        }
      ]
    },
    {
      "cell_type": "code",
      "source": [
        "5 Ma trận vuông An×n được gọi là ma\n",
        "trận tam giác trên nếu các phần tử nằm trên đường chéo đều khác 0 và các phần tử nằm dưới đường\n",
        "chéo đều bằng 0."
      ],
      "metadata": {
        "id": "DeruVN5shGI-"
      },
      "execution_count": null,
      "outputs": []
    },
    {
      "cell_type": "code",
      "source": [
        "vecD = []\n",
        "for i in range(5):\n",
        "  clo=[]\n",
        "  for j in range(7):\n",
        "    clo.append(rd.randint(1,199))\n",
        "  vecD.append(clo)\n",
        "\n",
        "print(np.array(vecD))\n",
        "vecD= np.triu((vecD))\n",
        "print(vecD)\n"
      ],
      "metadata": {
        "colab": {
          "base_uri": "https://localhost:8080/"
        },
        "id": "SzaNWXN0hHpV",
        "outputId": "1f42447c-10bc-4dba-ab24-9d0149c28b8e"
      },
      "execution_count": null,
      "outputs": [
        {
          "output_type": "stream",
          "name": "stdout",
          "text": [
            "[[122  83  19 121 175  94 125]\n",
            " [105 153 163 145  87 129 122]\n",
            " [131  97 104 194 174 197  14]\n",
            " [ 50  10 189 137 149 114  29]\n",
            " [ 77 141 181  30  50   8 111]]\n",
            "[[122  83  19 121 175  94 125]\n",
            " [  0 153 163 145  87 129 122]\n",
            " [  0   0 104 194 174 197  14]\n",
            " [  0   0   0 137 149 114  29]\n",
            " [  0   0   0   0  50   8 111]]\n"
          ]
        }
      ]
    },
    {
      "cell_type": "code",
      "source": [
        "6 ma tran tam giac duoi"
      ],
      "metadata": {
        "id": "Cg_9Hcd8M1Jh"
      },
      "execution_count": null,
      "outputs": []
    },
    {
      "cell_type": "code",
      "source": [
        "vecD = []\n",
        "for i in range(5):\n",
        "  clo=[]\n",
        "  for j in range(7):\n",
        "    clo.append(rd.randint(1,199))\n",
        "  vecD.append(clo)\n",
        "\n",
        "print(np.array(vecD))\n",
        "vecD= np.tril((vecD))\n",
        "print(vecD)"
      ],
      "metadata": {
        "colab": {
          "base_uri": "https://localhost:8080/"
        },
        "id": "h0zqlpwgNALp",
        "outputId": "95bdb42a-5503-4e84-b1cc-b9d4e1eb50d3"
      },
      "execution_count": null,
      "outputs": [
        {
          "output_type": "stream",
          "name": "stdout",
          "text": [
            "[[ 60 120  65  32  12 150 131]\n",
            " [ 49   5 164 143 122 184 163]\n",
            " [  5  64  95  14  99 101 144]\n",
            " [ 17  74 177 167 102  29  27]\n",
            " [196 199  61 131  18  12 166]]\n",
            "[[ 60   0   0   0   0   0   0]\n",
            " [ 49   5   0   0   0   0   0]\n",
            " [  5  64  95   0   0   0   0]\n",
            " [ 17  74 177 167   0   0   0]\n",
            " [196 199  61 131  18   0   0]]\n"
          ]
        }
      ]
    },
    {
      "cell_type": "code",
      "source": [
        "7Ma trận đơn vị In có số chiều n là một ma trận vuông\n",
        "mà mọi phần tử trên đường chéo chính bằng 1. Sử dụng thư viện NumPy, hãy tạo ra một ma trận\n",
        "I9\n",
        ". Kết quả xuất ra màn hình. Gợi ý: sử dụng hàm numpy.identity()"
      ],
      "metadata": {
        "id": "KndU1k9rh2Zg"
      },
      "execution_count": null,
      "outputs": []
    },
    {
      "cell_type": "code",
      "source": [
        "vecF=np.eye((3))\n",
        "print(vecF)\n",
        "vecF=np.identity(9)\n",
        "print(vecF)\n"
      ],
      "metadata": {
        "colab": {
          "base_uri": "https://localhost:8080/"
        },
        "id": "XZoWVaoDmw99",
        "outputId": "24b0c83f-3c80-4aa6-c746-d698ea4e933a"
      },
      "execution_count": null,
      "outputs": [
        {
          "output_type": "stream",
          "name": "stdout",
          "text": [
            "[[1. 0. 0.]\n",
            " [0. 1. 0.]\n",
            " [0. 0. 1.]]\n",
            "[[1. 0. 0. 0. 0. 0. 0. 0. 0.]\n",
            " [0. 1. 0. 0. 0. 0. 0. 0. 0.]\n",
            " [0. 0. 1. 0. 0. 0. 0. 0. 0.]\n",
            " [0. 0. 0. 1. 0. 0. 0. 0. 0.]\n",
            " [0. 0. 0. 0. 1. 0. 0. 0. 0.]\n",
            " [0. 0. 0. 0. 0. 1. 0. 0. 0.]\n",
            " [0. 0. 0. 0. 0. 0. 1. 0. 0.]\n",
            " [0. 0. 0. 0. 0. 0. 0. 1. 0.]\n",
            " [0. 0. 0. 0. 0. 0. 0. 0. 1.]]\n"
          ]
        }
      ]
    },
    {
      "cell_type": "code",
      "source": [
        "8 Phép cộng ma trận: Am×n + Bm×n = Cm×n. Hãy sinh ngẫu nhiên 2 ma trận có kích thước\n",
        "6x7. Thực hiện phép cộng 2 ma trận trên. Xuất giá trị các ma trận ra màn hình."
      ],
      "metadata": {
        "id": "pJqotbCrNmhY"
      },
      "execution_count": null,
      "outputs": []
    },
    {
      "cell_type": "code",
      "source": [
        "vecG= []\n",
        "for i in range(6):\n",
        "  mage= []\n",
        "  for i in range(7):\n",
        "    mage.append(rd.randint(1,20))\n",
        "  vecG.append(mage)\n",
        "vecG = np.array(vecG)\n",
        "print(\"vecG=n\\ \", vecG)\n",
        "\n",
        "vecH= []\n",
        "for i in range(6):\n",
        "  oxi=[]\n",
        "  for i in range(7):\n",
        "    oxi.append(rd.randint(1,15))\n",
        "  vecH.append(oxi)\n",
        "print(np.array(vecG))\n",
        "       \n"
      ],
      "metadata": {
        "colab": {
          "base_uri": "https://localhost:8080/"
        },
        "id": "_CpDZBVfNoMo",
        "outputId": "f7957c44-375c-4d82-f237-782032dbb8a9"
      },
      "execution_count": 7,
      "outputs": [
        {
          "output_type": "stream",
          "name": "stdout",
          "text": [
            "vecG=n\\  [[12 14  2  5 20  8  3]\n",
            " [ 1 17  2 18 13 14 16]\n",
            " [ 5  5 13 15 12 13 14]\n",
            " [ 1  7 18  4 14 11 14]\n",
            " [ 5 20 10 12 20 15  6]\n",
            " [ 5 11 16  9  2 13 11]]\n",
            "[[12 14  2  5 20  8  3]\n",
            " [ 1 17  2 18 13 14 16]\n",
            " [ 5  5 13 15 12 13 14]\n",
            " [ 1  7 18  4 14 11 14]\n",
            " [ 5 20 10 12 20 15  6]\n",
            " [ 5 11 16  9  2 13 11]]\n"
          ]
        }
      ]
    },
    {
      "cell_type": "code",
      "source": [
        "A=vecG+vecH\n",
        "print(A)"
      ],
      "metadata": {
        "id": "pK5z_be0PhcP",
        "colab": {
          "base_uri": "https://localhost:8080/"
        },
        "outputId": "b54f3afc-5466-420b-ac6a-be60c6b35f02"
      },
      "execution_count": 8,
      "outputs": [
        {
          "output_type": "stream",
          "name": "stdout",
          "text": [
            "[[16 21  7 20 23 21 13]\n",
            " [ 3 27 10 33 14 25 20]\n",
            " [ 9 10 18 23 24 22 22]\n",
            " [ 8 22 32 17 22 14 27]\n",
            " [10 33 23 15 25 28 10]\n",
            " [ 9 16 30 16  5 18 20]]\n"
          ]
        }
      ]
    },
    {
      "cell_type": "code",
      "source": [
        "Phép chuyển vị ma trận: Sinh ngẫu nhiên một ma trận có kích thước 3x7. Thực hiện phép\n",
        "chuyển vị đối với ma trận này. Xuất các ma trận này ra màn hình."
      ],
      "metadata": {
        "id": "6g78CHt-2uJW"
      },
      "execution_count": null,
      "outputs": []
    },
    {
      "cell_type": "code",
      "source": [
        "vecj= []\n",
        "for i in range(3):\n",
        "  natri= []\n",
        "  for i in range(7):\n",
        "    natri.append(rd.randint(1,20))\n",
        "  vecj.append(natri)\n",
        "vecj = np.array(vecj)\n",
        "print(\"vecj=n\\ \", vecj)"
      ],
      "metadata": {
        "colab": {
          "base_uri": "https://localhost:8080/"
        },
        "id": "6_5Ib15g3ixt",
        "outputId": "26084805-190f-4071-bfcd-4f0a430a3ec7"
      },
      "execution_count": 52,
      "outputs": [
        {
          "output_type": "stream",
          "name": "stdout",
          "text": [
            "vecj=n\\  [[14 19  6  2 13 10 20]\n",
            " [ 7  1  8 15 12  5 20]\n",
            " [10 11  1 15  8  5 11]]\n"
          ]
        }
      ]
    },
    {
      "cell_type": "code",
      "source": [
        "print(vecj.T)"
      ],
      "metadata": {
        "colab": {
          "base_uri": "https://localhost:8080/"
        },
        "id": "eSFNJ6mC3qnf",
        "outputId": "fd7e6c3c-732f-447c-c35d-261b099ef47e"
      },
      "execution_count": 53,
      "outputs": [
        {
          "output_type": "stream",
          "name": "stdout",
          "text": [
            "[[14  7 10]\n",
            " [19  1 11]\n",
            " [ 6  8  1]\n",
            " [ 2 15 15]\n",
            " [13 12  8]\n",
            " [10  5  5]\n",
            " [20 20 11]]\n"
          ]
        }
      ]
    },
    {
      "cell_type": "code",
      "source": [
        "Phép nhân 2 ma trận: Am×n ∙ Bn×p = Cm×p. Hãy sinh ngẫu nhiên 2 ma trận A5×7 và B7×3,\n",
        "tiến hành nhân 2 ma trận này để thu được ma trận C5×3. Xuất các ma trận trên ra màn hình.\n",
        "Gợi ý: sử dụng hàm numpy.dot()"
      ],
      "metadata": {
        "id": "67L5bEbu3t7P"
      },
      "execution_count": null,
      "outputs": []
    },
    {
      "cell_type": "code",
      "source": [
        "veck= []\n",
        "for i in range(5):\n",
        "  bari= []\n",
        "  for i in range(7):\n",
        "    bari.append(rd.randint(1,20))\n",
        "  veck.append(bari)\n",
        "veck = np.array(veck)\n",
        "print(\"veckveck=n\\ \", veck)\n",
        "\n",
        "vecl= []\n",
        "for i in range(7):\n",
        "  canxi= []\n",
        "  for i in range(3):\n",
        "    canxi.append(rd.randint(1,20))\n",
        "  vecl.append(canxi)\n",
        "vecl = np.array(vecl)\n",
        "print(\"veclvecl=n\\ \", vecl)\n"
      ],
      "metadata": {
        "colab": {
          "base_uri": "https://localhost:8080/"
        },
        "id": "ya1EbKVX30H5",
        "outputId": "6a79dd79-af34-4f11-94ae-ef758fcc6b93"
      },
      "execution_count": 54,
      "outputs": [
        {
          "output_type": "stream",
          "name": "stdout",
          "text": [
            "veckveck=n\\  [[ 4 19 12 11  1 11  6]\n",
            " [ 7 17 11  5  2  1 17]\n",
            " [ 9  5 17  3  6  1 12]\n",
            " [15  8  5  6  8  8 11]\n",
            " [17 16 17  4 15 12 17]]\n",
            "veclvecl=n\\  [[19 14  8]\n",
            " [18 19  4]\n",
            " [ 7 13  6]\n",
            " [15 19 19]\n",
            " [17 16 13]\n",
            " [14 15 15]\n",
            " [17  2 16]]\n"
          ]
        }
      ]
    },
    {
      "cell_type": "code",
      "source": [
        "print(veck.dot(vecl))"
      ],
      "metadata": {
        "colab": {
          "base_uri": "https://localhost:8080/"
        },
        "id": "TKkzndyk5KoF",
        "outputId": "9b8cedc0-39ee-485d-fb98-e31246bc64fd"
      },
      "execution_count": 55,
      "outputs": [
        {
          "output_type": "stream",
          "name": "stdout",
          "text": [
            "[[ 940  975  663]\n",
            " [ 928  740  598]\n",
            " [ 745  634  536]\n",
            " [ 989  811  696]\n",
            " [1502 1293 1025]]\n"
          ]
        }
      ]
    },
    {
      "cell_type": "code",
      "source": [
        "Ma trận khả nghịch: ma trận vuông An×n gọi là khả nghịch (hay không suy biến) nếu tồn\n",
        "tại một ma trận vuông Bn×n sao cho A ∙ B = In . Khi này, B được gọi là ma trận nghịch\n",
        "đảo của A và ký hiệu là A\n",
        "−1\n",
        ". Cho ma trận A5×7, hãy tính ma trận khả nghịch của A. Gợi\n",
        "\n",
        "ý: sử dụng hàm numpy.linalg.inv()"
      ],
      "metadata": {
        "id": "yO9djzqZ6SZF"
      },
      "execution_count": null,
      "outputs": []
    },
    {
      "cell_type": "code",
      "source": [
        "9Vector hàng (row vector) thực chất là ma trận có kích thước 1 × n. Hãy tạo ngẫu nhiên 1\n",
        "vector hàng - x có kích thước 1 × 8. Kết quả xuất ra màn hình."
      ],
      "metadata": {
        "id": "Id7vJvt76aJc"
      },
      "execution_count": null,
      "outputs": []
    },
    {
      "cell_type": "code",
      "source": [
        "vecz= []\n",
        "for i in range(1):\n",
        "  kali= []\n",
        "  for i in range(8):\n",
        "    kali.append(rd.randint(1,20))\n",
        "  vecz.append(kali)\n",
        "vecz = np.array(vecz)\n",
        "print(\"vecz=n\\ \", vecz)"
      ],
      "metadata": {
        "colab": {
          "base_uri": "https://localhost:8080/"
        },
        "id": "vwN80GIW7Ek1",
        "outputId": "999b02b5-d427-403d-d123-d0c60c52f9bb"
      },
      "execution_count": 57,
      "outputs": [
        {
          "output_type": "stream",
          "name": "stdout",
          "text": [
            "vecz=n\\  [[ 6  1 18 16  6  5  8  6]]\n"
          ]
        }
      ]
    },
    {
      "cell_type": "code",
      "source": [
        "Vector cột (column vector) thực chất là ma trận có kích thước m × 1. Hãy tạo ngẫu nhiên\n",
        "1 vector cột – x có kích thước 8 × 1. Kết quả xuất ra màn hình."
      ],
      "metadata": {
        "id": "ycBbjzJ98V_i"
      },
      "execution_count": null,
      "outputs": []
    },
    {
      "cell_type": "code",
      "source": [
        "vecz= []\n",
        "for i in range(8):\n",
        "  kali= []\n",
        "  for i in range(1):\n",
        "    kali.append(rd.randint(1,20))\n",
        "  vecz.append(kali)\n",
        "vecz = np.array(vecz)\n",
        "print(\"vecz=n\\ \", vecz)"
      ],
      "metadata": {
        "colab": {
          "base_uri": "https://localhost:8080/"
        },
        "id": "YR0W_8BI8R9d",
        "outputId": "1dd9584e-8976-4617-d338-fb70ff955cea"
      },
      "execution_count": 59,
      "outputs": [
        {
          "output_type": "stream",
          "name": "stdout",
          "text": [
            "vecz=n\\  [[18]\n",
            " [13]\n",
            " [19]\n",
            " [ 7]\n",
            " [ 5]\n",
            " [13]\n",
            " [ 5]\n",
            " [14]]\n"
          ]
        }
      ]
    }
  ]
}